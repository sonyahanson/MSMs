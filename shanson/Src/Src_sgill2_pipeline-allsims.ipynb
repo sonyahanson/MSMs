{
 "cells": [
  {
   "cell_type": "markdown",
   "metadata": {},
   "source": [
    "Here I am just reproducing work from the mobely lab on making MSMs from our T4 Lysozyme data https://github.com/sgill2/LabStuff/blob/master/emma_template.py"
   ]
  },
  {
   "cell_type": "code",
   "execution_count": 1,
   "metadata": {
    "collapsed": false
   },
   "outputs": [],
   "source": [
    "#from pyemma import KmeansClustering as Kmeans\n",
    "#import pyemma.pyemma\n",
    "import pyemma\n"
   ]
  },
  {
   "cell_type": "code",
   "execution_count": 2,
   "metadata": {
    "collapsed": true
   },
   "outputs": [],
   "source": [
    "import pyemma.coordinates as coor\n",
    "import pyemma.msm as msm\n",
    "import pyemma.plots as mplt"
   ]
  },
  {
   "cell_type": "code",
   "execution_count": 3,
   "metadata": {
    "collapsed": false
   },
   "outputs": [
    {
     "name": "stdout",
     "output_type": "stream",
     "text": [
      "Populating the interactive namespace from numpy and matplotlib\n"
     ]
    },
    {
     "name": "stderr",
     "output_type": "stream",
     "text": [
      "WARNING: pylab import has clobbered these variables: ['random']\n",
      "`%matplotlib` prevents importing * from pylab and numpy\n"
     ]
    }
   ],
   "source": [
    "import pickle\n",
    "import numpy as np\n",
    "\n",
    "import os\n",
    "import matplotlib\n",
    "\n",
    "import matplotlib.pyplot as plt\n",
    "\n",
    "import glob\n",
    "import fnmatch\n",
    "import random\n",
    "import time\n",
    "\n",
    "%pylab inline"
   ]
  },
  {
   "cell_type": "code",
   "execution_count": 4,
   "metadata": {
    "collapsed": true
   },
   "outputs": [],
   "source": [
    "import mdtraj as md"
   ]
  },
  {
   "cell_type": "code",
   "execution_count": 5,
   "metadata": {
    "collapsed": false
   },
   "outputs": [
    {
     "data": {
      "text/plain": [
       "u'2.1.1+98.g9d0898c'"
      ]
     },
     "execution_count": 5,
     "metadata": {},
     "output_type": "execute_result"
    }
   ],
   "source": [
    "pyemma.__version__"
   ]
  },
  {
   "cell_type": "code",
   "execution_count": 6,
   "metadata": {
    "collapsed": true
   },
   "outputs": [],
   "source": [
    "###Functions\n",
    "def plot_sampled_function(xall, yall, zall, ax=None, nbins=100, nlevels=20, cmap=matplotlib.cm.bwr, cbar=True, cbar_label=None):\n",
    "    # histogram data\n",
    "    xmin = np.min(xall)\n",
    "    xmax = np.max(xall)\n",
    "    dx = (xmax - xmin) / float(nbins)\n",
    "    ymin = np.min(yall)\n",
    "    ymax = np.max(yall)\n",
    "    dy = (ymax - ymin) / float(nbins)\n",
    "    # bin data\n",
    "#    eps = x\n",
    "    xbins = np.linspace(xmin - 0.5*dx, xmax + 0.5*dx, num=nbins)\n",
    "    ybins = np.linspace(ymin - 0.5*dy, ymax + 0.5*dy, num=nbins)\n",
    "    xI = np.digitize(xall, xbins)\n",
    "    yI = np.digitize(yall, ybins)\n",
    "    # result\n",
    "    z = np.zeros((nbins, nbins))\n",
    "    N = np.zeros((nbins, nbins))\n",
    "    # average over bins\n",
    "    for t in range(len(xall)):\n",
    "        z[xI[t], yI[t]] += zall[t]\n",
    "        N[xI[t], yI[t]] += 1.0\n",
    "    z /= N\n",
    "    # do a contour plot\n",
    "    extent = [xmin, xmax, ymin, ymax]\n",
    "    if ax is None:\n",
    "        ax = gca()\n",
    "    ax.contourf(z.T, 100, extent=extent, cmap=cmap)\n",
    "    if cbar:\n",
    "        cbar = plt.colorbar()\n",
    "        if cbar_label is not None:\n",
    "            cbar.ax.set_ylabel(cbar_label)\n",
    "\n",
    "    return ax"
   ]
  },
  {
   "cell_type": "code",
   "execution_count": 7,
   "metadata": {
    "collapsed": true
   },
   "outputs": [],
   "source": [
    "def plot_sampled_density(xall, yall, zall, ax=None, nbins=100, cmap=matplotlib.cm.Blues, cbar=True, cbar_label=None):\n",
    "    return plot_sampled_function(xall, yall, zall, ax=ax, nbins=nbins, cmap=cmap, cbar=cbar, cbar_label=cbar_label)\n"
   ]
  },
  {
   "cell_type": "code",
   "execution_count": 8,
   "metadata": {
    "collapsed": true
   },
   "outputs": [],
   "source": [
    "def plot_labels(ax=None):\n",
    "    if ax is None:\n",
    "        ax = gca()\n",
    "    ax.text(-2, -4.7, '1', fontsize=20, color='black')\n",
    "    ax.text(-1.2, -5, '2', fontsize=20, color='black')\n",
    "    ax.text(-4.2, 1.5, '3', fontsize=20, color='black')\n",
    "    ax.text(-0.1, 0, '4', fontsize=20, color='white')"
   ]
  },
  {
   "cell_type": "code",
   "execution_count": 9,
   "metadata": {
    "collapsed": true
   },
   "outputs": [],
   "source": [
    "def make_keys(msm_list, globlist, numclusters):\n",
    "\n",
    "    for index, entry in enumerate(msm_list):\n",
    "        print entry\n",
    "        name = os.path.splitext(globlist[index])[0]\n",
    "        keys = {}\n",
    "        for i in range(numclusters):\n",
    "            keys[i] = []\n",
    "        for number, cluster in enumerate(entry):\n",
    "            keys[cluster].append(number)\n",
    "        pickle_name = 'keys_' + name + '.pickle'\n",
    "        with open(pickle_name, 'w') as f:\n",
    "            pickle.dump(keys, f)\n",
    "    return True"
   ]
  },
  {
   "cell_type": "code",
   "execution_count": 10,
   "metadata": {
    "collapsed": true
   },
   "outputs": [],
   "source": [
    "def update_progress(progress, total):\n",
    "    print '\\r[{0}] {1}%'.format('#'*(progress/total), progress)"
   ]
  },
  {
   "cell_type": "code",
   "execution_count": 11,
   "metadata": {
    "collapsed": true
   },
   "outputs": [],
   "source": [
    "def plot_edit(xall, yall, weights=None, ax=None, nbins=100, offset=0.0001,\n",
    "                     cmap='spectral', cbar=True, cbar_label='Free energy (kT)'):\n",
    "    \"\"\"Free energy plot given 2D scattered data\n",
    "    Builds a 2D-histogram of the given data points and plots -log(p) where p is\n",
    "    the probability computed from the histogram count.\n",
    "    Parameters\n",
    "    ----------\n",
    "    xall : ndarray(T)\n",
    "        sample x-coordinates\n",
    "    yall : ndarray(T)\n",
    "        sample y-coordinates\n",
    "    weights : ndarray(T), default = None\n",
    "        sample weights. By default all samples have the same weight\n",
    "    ax : matplotlib Axes object, default = None\n",
    "        the axes to plot to. When set to None the default Axes object will be used.\n",
    "    nbins : int, default=100\n",
    "        number of histogram bins used in each dimension\n",
    "    offset : float, default=0.1\n",
    "        small additive shift to the histogram. This creates a small bias to the\n",
    "        distribution, but gives a better visual impression with the default\n",
    "        colormap.\n",
    "    cmap : matplotlib colormap, optional, default = None\n",
    "        the color map to use. None will use pylab.cm.spectral.\n",
    "    cbar : boolean, default=True\n",
    "        plot a color bar\n",
    "    cbar_label : str or None, default='Free energy (kT)'\n",
    "        colorbar label string. Use None to suppress it.\n",
    "    Returns\n",
    "    -------\n",
    "    ax : Axes object containing the plot\n",
    "    fig : Figure object containing the plot\n",
    "    \"\"\"\n",
    "    import matplotlib.pylab as _plt\n",
    "    z, x, y = np.histogram2d(xall, yall, bins=nbins, weights=weights)\n",
    "    z += offset\n",
    "#    print 'x edges'; print x\n",
    "#    print 'y edges'; print y\n",
    "    # compute free energies\n",
    "    F = -np.log(z)\n",
    "    # do a contour plot\n",
    "    #extent = [x[0], x[-1], y[0], y[-1]]\n",
    "    #if ax is None:\n",
    "    #    ax = pp.gca()\n",
    "    #CS = ax.contourf(F.T, 100, extent=extent, cmap=cmap)\n",
    "    #if cbar:\n",
    "    #    cbar = pp.colorbar(CS)\n",
    "    #    if cbar_label is not None:\n",
    "    #        cbar.ax.set_ylabel(cbar_label)\n",
    "\n",
    "    return F, x, y"
   ]
  },
  {
   "cell_type": "code",
   "execution_count": 12,
   "metadata": {
    "collapsed": true
   },
   "outputs": [],
   "source": [
    "def get_frame_membership(temp_mapped_data):\n",
    "    frametoindex = {} \n",
    "    frame_counter = 0\n",
    "    total_length = 0\n",
    "\n",
    "    for index, entry in enumerate(temp_mapped_data):\n",
    "    #index is used to to map to the traj_list index\n",
    "    #entry is the individual trajectory (that you will iterate through)\n",
    "    #keeping track of total length of the trajectory using the next two lines\n",
    "        total_length = total_length + len(entry)\n",
    "    #frame_membership is used to\n",
    "        frame_membership = range(frame_counter, (frame_counter + len(entry)))\n",
    "\n",
    "        for frame_in_traj, entry2 in enumerate(frame_membership):\n",
    "            frametoindex[entry2] = [index, frame_in_traj]\n",
    "        frame_counter = frame_counter + len(entry)\n",
    "#    print 'new frame to index'\n",
    "#    print frametoindex\n",
    "    return frametoindex\n",
    "    "
   ]
  },
  {
   "cell_type": "code",
   "execution_count": 13,
   "metadata": {
    "collapsed": true
   },
   "outputs": [],
   "source": [
    "def flatten_data(mapped_data, dim):\n",
    "    assert type(dim) == int\n",
    "    temp_mapped_data = np.copy(mapped_data)\n",
    "    frame_counter = 0\n",
    "    total_length = 0\n",
    "    for index, entry in enumerate(temp_mapped_data):\n",
    "    #index is used to to map to the traj_list index\n",
    "    #entry is the individual trajectory (that you will iterate through)\n",
    "    #keeping track of total length of the trajectory using the next two lines\n",
    "        total_length = total_length + len(entry)\n",
    "    #frame_membership is used to\n",
    "    print 'frame total is ', total_length\n",
    "    debug_mapped_data = np.zeros((total_length, dim))\n",
    "    counter = 0\n",
    "    #flatten mapped_data (which is the traj clusters)\n",
    "    for array in np.copy(mapped_data):\n",
    "#        print 'array', array\n",
    "        len_traj = np.shape(array)[0]\n",
    "        print len_traj\n",
    "        print np.shape(debug_mapped_data)\n",
    "        for entry in range(len_traj):\n",
    "#            print 'debug_mapped counter'\n",
    "#            print debug_mapped_data[counter]\n",
    "#            print 'array[entry]'\n",
    "#            print array[entry]\n",
    "            debug_mapped_data[counter] = array[entry]\n",
    "            counter = counter + 1\n",
    "    print debug_mapped_data\n",
    "    return debug_mapped_data"
   ]
  },
  {
   "cell_type": "code",
   "execution_count": 14,
   "metadata": {
    "collapsed": false
   },
   "outputs": [],
   "source": [
    "#def grep_folder(traj_list, folder, globname):\n",
    "#    path = folder\n",
    "#    traj_append = [os.path.join(dirpath, f)\n",
    "#        for dirpath, dirnames, files in os.walk(path)\n",
    "#        for f in fnmatch.filter(files, globname)]\n",
    "#    print traj_append\n",
    "#    for entry in traj_append:\n",
    "#        traj_list.append(entry)\n",
    "#    return traj_list"
   ]
  },
  {
   "cell_type": "markdown",
   "metadata": {},
   "source": [
    "Those were the functions, here is the magic!"
   ]
  },
  {
   "cell_type": "code",
   "execution_count": 15,
   "metadata": {
    "collapsed": false
   },
   "outputs": [],
   "source": [
    "# load trajectories\n",
    "path_to_trajs = '/cbio/jclab/projects/fah/fah-data/munged-with-time/no-solvent/11401/*.h5'\n",
    "from glob import glob\n",
    "filenames = glob(path_to_trajs)#[:50] # here looking at only the first 50\n",
    "trajs = [md.load(f) for f in filenames]"
   ]
  },
  {
   "cell_type": "code",
   "execution_count": 16,
   "metadata": {
    "collapsed": false
   },
   "outputs": [
    {
     "data": {
      "text/plain": [
       "1489259"
      ]
     },
     "execution_count": 16,
     "metadata": {},
     "output_type": "execute_result"
    }
   ],
   "source": [
    "sum([len(traj) for traj in trajs])\n"
   ]
  },
  {
   "cell_type": "code",
   "execution_count": 17,
   "metadata": {
    "collapsed": false
   },
   "outputs": [
    {
     "data": {
      "text/plain": [
       "250.0"
      ]
     },
     "execution_count": 17,
     "metadata": {},
     "output_type": "execute_result"
    }
   ],
   "source": [
    "trajs[0].timestep"
   ]
  },
  {
   "cell_type": "code",
   "execution_count": 18,
   "metadata": {
    "collapsed": true
   },
   "outputs": [],
   "source": [
    "top_file = '/cbio/jclab/projects/fah/fah-data/munged/no-solvent/11401/run0-clone0.h5'\n",
    "feat = coor.featurizer(top_file)\n",
    "prot_index = np.array(feat.select(\"(resid >= 105) and (resid <= 115) and (name == CA)\"))\n",
    "#prot_index = np.array([])\n",
    "added_residues = np.array(feat.select(\"(resid >= 100) and (resid <= 102) and (name == CA)\"))"
   ]
  },
  {
   "cell_type": "code",
   "execution_count": 19,
   "metadata": {
    "collapsed": false
   },
   "outputs": [],
   "source": [
    "prot_lig = np.concatenate((prot_index, added_residues), axis=0)\n"
   ]
  },
  {
   "cell_type": "code",
   "execution_count": 20,
   "metadata": {
    "collapsed": false
   },
   "outputs": [],
   "source": [
    "feat.add_backbone_torsions(selstr=\"(resid >= 105) and (resid <= 115)\")\n"
   ]
  },
  {
   "cell_type": "code",
   "execution_count": null,
   "metadata": {
    "collapsed": false
   },
   "outputs": [
    {
     "name": "stdout",
     "output_type": "stream",
     "text": [
      "04-05-16 16:06:05 pyemma.coordinates.data.featurization.featurizer.MDFeaturizer[0] WARNING  The 1D arrays input for add_distances() have been sorted, and index duplicates have been eliminated.\n",
      "Check the output of describe() to see the actual order of the features\n",
      "feat dimension\n",
      "113\n",
      "feat dimension\n",
      "113\n"
     ]
    }
   ],
   "source": [
    "feat.add_distances(prot_lig)\n",
    "\n",
    "print 'feat dimension'\n",
    "print feat.dimension()\n",
    "\n",
    "inp = coor.source(filenames, feat)\n",
    "##Variables\n",
    "lagtime = 50\n",
    "tica_lagtime = 400\n",
    "\n",
    "#number of PCCA clusters\n",
    "n_sets = 3\n",
    "\n",
    "print 'feat dimension'\n",
    "print feat.dimension()"
   ]
  },
  {
   "cell_type": "code",
   "execution_count": null,
   "metadata": {
    "collapsed": false
   },
   "outputs": [],
   "source": [
    "\n",
    "dataset = []\n",
    "nlist = []\n",
    "\n",
    "if 1:\n",
    "    n_clusters = 200\n",
    "    tica_obj = coor.tica( dim=2, lag=tica_lagtime, kinetic_map=True)\n",
    "\n",
    "    input_data = coor.cluster_kmeans( k=n_clusters, max_iter=50)\n",
    "\n",
    "    disc = coor.discretizer(inp, tica_obj, input_data, stride=1, chunksize=10)\n",
    "    disc.parametrize()\n",
    "print tica_obj.cumvar\n",
    "#TICA output is Y\n",
    "Y = tica_obj.get_output()\n",
    "print np.shape(Y)\n",
    "#print 'Y[0]'\n",
    "#print Y[0]\n",
    "print 'number of trajetories = ', np.shape(Y)[0]\n",
    "#"
   ]
  },
  {
   "cell_type": "code",
   "execution_count": null,
   "metadata": {
    "collapsed": true
   },
   "outputs": [],
   "source": [
    "#mapped_data is the TICA clustered data mapped to the microstates (so integer valued)\n",
    "mapped_data =input_data.dtrajs"
   ]
  },
  {
   "cell_type": "code",
   "execution_count": null,
   "metadata": {
    "collapsed": false
   },
   "outputs": [],
   "source": [
    "mplt.plot_free_energy(np.vstack(Y)[:,0], np.vstack(Y)[:,1])\n",
    "cc_x = input_data.clustercenters[:,0]\n",
    "cc_y = input_data.clustercenters[:,1]\n",
    "plt.plot(cc_x,cc_y, linewidth=0, marker='o', markersize=5, color='black')\n",
    "mplt.plot_free_energy(np.vstack(Y)[:,0], np.vstack(Y)[:,1], cbar_label=None);\n",
    "plt.savefig('msm_tica_clusters.png')\n"
   ]
  },
  {
   "cell_type": "code",
   "execution_count": null,
   "metadata": {
    "collapsed": false
   },
   "outputs": [],
   "source": [
    "fig, (ax1, ax2) = plt.subplots(1,2)\n",
    "ax1.scatter(cc_x, cc_y, marker='o', color='black') \n",
    "ax2 = mplt.plot_free_energy(np.vstack(Y)[:,0], np.vstack(Y)[:,1], cbar_label=None)\n",
    "plt.savefig('msm_tica_all.png')\n"
   ]
  },
  {
   "cell_type": "code",
   "execution_count": null,
   "metadata": {
    "collapsed": true
   },
   "outputs": [],
   "source": [
    "#actually generate MSM from data\n",
    "msm_from_data = msm.estimate_markov_model(dtrajs=mapped_data, lag=lagtime)"
   ]
  },
  {
   "cell_type": "code",
   "execution_count": null,
   "metadata": {
    "collapsed": false
   },
   "outputs": [],
   "source": [
    "#plot and/or save implied timescales, if specified\n",
    "its = msm.timescales_msm(dtrajs=mapped_data, lags=500)\n",
    "mplt.plot_implied_timescales(its, show_mean=False, ylog=True, dt=25, units='ps', linewidth=2)\n",
    "plt.savefig('msm_its.png')\n",
    "\n"
   ]
  },
  {
   "cell_type": "code",
   "execution_count": null,
   "metadata": {
    "collapsed": false
   },
   "outputs": [],
   "source": [
    "\n",
    "####\n",
    "#pcca cluster using specified n_sets\n",
    "msm_from_data.pcca(n_sets)\n",
    "pcca_return = msm_from_data.pcca(n_sets)\n",
    "pcca_return.metastable_sets\n",
    "pcca_return.metastable_assignment\n",
    "pcca_return.transition_matrix\n",
    "pcca_dist = msm_from_data.metastable_distributions\n",
    "membership = msm_from_data.metastable_memberships\n",
    "pcca_sets = msm_from_data.metastable_sets\n",
    "color_list = ['cyan', 'blue', 'green', 'black', 'orange', 'purple', 'pink', 'red']\n",
    "mplt.plot_free_energy(np.vstack(Y)[:,0], np.vstack(Y)[:,1])"
   ]
  },
  {
   "cell_type": "code",
   "execution_count": null,
   "metadata": {
    "collapsed": false
   },
   "outputs": [],
   "source": [
    "\n",
    "print len(msm_from_data.metastable_assignments)\n",
    "for number in range(n_sets):\n",
    "    print input_data.clustercenters[pcca_sets[number],0], input_data.clustercenters[pcca_sets[number],1]\n",
    "for number in range(n_sets):\n",
    "    plt.scatter(input_data.clustercenters[pcca_sets[number],0], input_data.clustercenters[pcca_sets[number],1], color=color_list[number])\n",
    "\n",
    "plt.savefig('msm_pcca.png')\n"
   ]
  },
  {
   "cell_type": "code",
   "execution_count": null,
   "metadata": {
    "collapsed": false
   },
   "outputs": [],
   "source": [
    "#####CK TEST, if specified\n",
    "\n",
    "ck = msm_from_data.cktest(n_sets, mlags=11)\n",
    "\n",
    "mplt.plot_cktest(ck, diag=False, figsize=(7,7), layout=(n_sets,n_sets), padding_top=0.1, y01=False, padding_between=0.3, dt=0.1, units='ns')\n",
    "\n",
    "plt.savefig('msm_ck.png')\n"
   ]
  },
  {
   "cell_type": "code",
   "execution_count": null,
   "metadata": {
    "collapsed": false
   },
   "outputs": [],
   "source": [
    "\n",
    "#####\n",
    "#make hmm from msm and pcca clusters\n",
    "hmm = msm_from_data.coarse_grain(n_sets)\n",
    "print 'hmm'\n",
    "print hmm.stationary_distribution\n",
    "print hmm.transition_matrix\n",
    "np.savetxt('msm_populations.txt', hmm.stationary_distribution)\n",
    "np.savetxt('msm_transmat.txt', hmm.transition_matrix)\n",
    "#plot msm using pyemma function\n",
    "mplt.plot_markov_model(hmm, minflux=4e-4, arrow_label_format='%.3f')\n",
    "\n",
    "plt.savefig('msm_hmm_markovmodel.png')\n"
   ]
  },
  {
   "cell_type": "code",
   "execution_count": null,
   "metadata": {
    "collapsed": false
   },
   "outputs": [],
   "source": [
    "\n",
    "#plot hmm timescales\n",
    "print hmm.metastable_assignments\n",
    "plt.plot(msm_from_data.timescales()[:-1]/msm_from_data.timescales()[1:], linewidth=0,marker='o')\n",
    "plt.xlabel('index'); plt.ylabel('timescale separation');\n",
    "\n",
    "plt.savefig('msm_hmm_timescales.png')\n",
    "\n",
    "\n",
    "pcca_sets_6 = msm_from_data.metastable_sets\n",
    "print pcca_sets_6\n",
    "pcca_dist = msm_from_data.metastable_distributions"
   ]
  },
  {
   "cell_type": "code",
   "execution_count": null,
   "metadata": {
    "collapsed": false
   },
   "outputs": [],
   "source": [
    "#if args.output specified, saves random frames from each pcca cluster\n",
    "\n",
    "outfiles = []\n",
    "for number in range(n_sets):\n",
    "    pcca_name = './pcca_'+str(number)+'_samples.xtc'\n",
    "    outfiles.append(pcca_name)\n",
    "    #outfiles = outfiles[0:n_sets]\n",
    "pcca_samples = msm_from_data.sample_by_distributions(pcca_dist, 100)\n",
    "#coor.save_trajs(inp, pcca_samples, outfiles=['./pcca1_10samples.xtc','./pcca2_10samples.xtc',])\n",
    "coor.save_trajs(inp, pcca_samples, outfiles=outfiles)"
   ]
  },
  {
   "cell_type": "code",
   "execution_count": null,
   "metadata": {
    "collapsed": true
   },
   "outputs": [],
   "source": []
  },
  {
   "cell_type": "code",
   "execution_count": null,
   "metadata": {
    "collapsed": true
   },
   "outputs": [],
   "source": []
  },
  {
   "cell_type": "code",
   "execution_count": null,
   "metadata": {
    "collapsed": false
   },
   "outputs": [],
   "source": []
  },
  {
   "cell_type": "code",
   "execution_count": null,
   "metadata": {
    "collapsed": true
   },
   "outputs": [],
   "source": []
  },
  {
   "cell_type": "code",
   "execution_count": null,
   "metadata": {
    "collapsed": true
   },
   "outputs": [],
   "source": []
  }
 ],
 "metadata": {
  "kernelspec": {
   "display_name": "Python 2",
   "language": "python",
   "name": "python2"
  },
  "language_info": {
   "codemirror_mode": {
    "name": "ipython",
    "version": 2
   },
   "file_extension": ".py",
   "mimetype": "text/x-python",
   "name": "python",
   "nbconvert_exporter": "python",
   "pygments_lexer": "ipython2",
   "version": "2.7.11"
  }
 },
 "nbformat": 4,
 "nbformat_minor": 0
}
